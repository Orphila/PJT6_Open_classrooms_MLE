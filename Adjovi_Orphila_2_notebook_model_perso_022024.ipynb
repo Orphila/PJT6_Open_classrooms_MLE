{
 "cells": [
  {
   "cell_type": "markdown",
   "metadata": {},
   "source": [
    "Création du dataset"
   ]
  },
  {
   "cell_type": "code",
   "execution_count": 77,
   "metadata": {},
   "outputs": [
    {
     "name": "stdout",
     "output_type": "stream",
     "text": [
      "Found 20580 files belonging to 120 classes.\n",
      "Using 12348 files for training.\n",
      "Found 20580 files belonging to 120 classes.\n",
      "Using 8232 files for validation.\n",
      "Noms des sous-dossiers (class_names) : ['n02085620-Chihuahua', 'n02085782-Japanese_spaniel', 'n02085936-Maltese_dog', 'n02086079-Pekinese', 'n02086240-Shih-Tzu', 'n02086646-Blenheim_spaniel', 'n02086910-papillon', 'n02087046-toy_terrier', 'n02087394-Rhodesian_ridgeback', 'n02088094-Afghan_hound', 'n02088238-basset', 'n02088364-beagle', 'n02088466-bloodhound', 'n02088632-bluetick', 'n02089078-black-and-tan_coonhound', 'n02089867-Walker_hound', 'n02089973-English_foxhound', 'n02090379-redbone', 'n02090622-borzoi', 'n02090721-Irish_wolfhound', 'n02091032-Italian_greyhound', 'n02091134-whippet', 'n02091244-Ibizan_hound', 'n02091467-Norwegian_elkhound', 'n02091635-otterhound', 'n02091831-Saluki', 'n02092002-Scottish_deerhound', 'n02092339-Weimaraner', 'n02093256-Staffordshire_bullterrier', 'n02093428-American_Staffordshire_terrier', 'n02093647-Bedlington_terrier', 'n02093754-Border_terrier', 'n02093859-Kerry_blue_terrier', 'n02093991-Irish_terrier', 'n02094114-Norfolk_terrier', 'n02094258-Norwich_terrier', 'n02094433-Yorkshire_terrier', 'n02095314-wire-haired_fox_terrier', 'n02095570-Lakeland_terrier', 'n02095889-Sealyham_terrier', 'n02096051-Airedale', 'n02096177-cairn', 'n02096294-Australian_terrier', 'n02096437-Dandie_Dinmont', 'n02096585-Boston_bull', 'n02097047-miniature_schnauzer', 'n02097130-giant_schnauzer', 'n02097209-standard_schnauzer', 'n02097298-Scotch_terrier', 'n02097474-Tibetan_terrier', 'n02097658-silky_terrier', 'n02098105-soft-coated_wheaten_terrier', 'n02098286-West_Highland_white_terrier', 'n02098413-Lhasa', 'n02099267-flat-coated_retriever', 'n02099429-curly-coated_retriever', 'n02099601-golden_retriever', 'n02099712-Labrador_retriever', 'n02099849-Chesapeake_Bay_retriever', 'n02100236-German_short-haired_pointer', 'n02100583-vizsla', 'n02100735-English_setter', 'n02100877-Irish_setter', 'n02101006-Gordon_setter', 'n02101388-Brittany_spaniel', 'n02101556-clumber', 'n02102040-English_springer', 'n02102177-Welsh_springer_spaniel', 'n02102318-cocker_spaniel', 'n02102480-Sussex_spaniel', 'n02102973-Irish_water_spaniel', 'n02104029-kuvasz', 'n02104365-schipperke', 'n02105056-groenendael', 'n02105162-malinois', 'n02105251-briard', 'n02105412-kelpie', 'n02105505-komondor', 'n02105641-Old_English_sheepdog', 'n02105855-Shetland_sheepdog', 'n02106030-collie', 'n02106166-Border_collie', 'n02106382-Bouvier_des_Flandres', 'n02106550-Rottweiler', 'n02106662-German_shepherd', 'n02107142-Doberman', 'n02107312-miniature_pinscher', 'n02107574-Greater_Swiss_Mountain_dog', 'n02107683-Bernese_mountain_dog', 'n02107908-Appenzeller', 'n02108000-EntleBucher', 'n02108089-boxer', 'n02108422-bull_mastiff', 'n02108551-Tibetan_mastiff', 'n02108915-French_bulldog', 'n02109047-Great_Dane', 'n02109525-Saint_Bernard', 'n02109961-Eskimo_dog', 'n02110063-malamute', 'n02110185-Siberian_husky', 'n02110627-affenpinscher', 'n02110806-basenji', 'n02110958-pug', 'n02111129-Leonberg', 'n02111277-Newfoundland', 'n02111500-Great_Pyrenees', 'n02111889-Samoyed', 'n02112018-Pomeranian', 'n02112137-chow', 'n02112350-keeshond', 'n02112706-Brabancon_griffon', 'n02113023-Pembroke', 'n02113186-Cardigan', 'n02113624-toy_poodle', 'n02113712-miniature_poodle', 'n02113799-standard_poodle', 'n02113978-Mexican_hairless', 'n02115641-dingo', 'n02115913-dhole', 'n02116738-African_hunting_dog']\n"
     ]
    }
   ],
   "source": [
    "#Je met les liens des images d'un coté et le folder + id de l'autre\n",
    "import tensorflow as tf\n",
    "import numpy as np\n",
    "import mlflow\n",
    "\n",
    "base_path = '/Users/orphila_adjovi/PJT6_Open_classrooms_MLE/Images'\n",
    "\n",
    "image_size = (224, 224)  # Taille images\n",
    "batch_size = 120  # Taille de lot\n",
    "\n",
    "train_ds = tf.keras.utils.image_dataset_from_directory(\n",
    "    base_path,\n",
    "    validation_split=0.4,\n",
    "    subset=\"training\",\n",
    "    seed=0,\n",
    "    image_size=image_size,\n",
    "    batch_size=batch_size,\n",
    ")\n",
    "\n",
    "val_ds = tf.keras.utils.image_dataset_from_directory(\n",
    "    base_path,\n",
    "    validation_split=0.4,\n",
    "    subset=\"validation\",\n",
    "    seed=0,\n",
    "    image_size=image_size,\n",
    "    batch_size=batch_size,\n",
    ")\n",
    "\n",
    "\n",
    "all_classes = train_ds.class_names\n",
    "print(\"Noms des sous-dossiers (class_names) :\", all_classes)\n",
    "\n",
    "test_ds = val_ds.take(len(val_ds) // 2)\n",
    "val_ds = val_ds.skip(len(val_ds) // 2)\n",
    "\n",
    "def get_class_proportions(dataset):\n",
    "    all_labels = []\n",
    "    for _, labels in dataset.as_numpy_iterator():\n",
    "        all_labels.extend(labels)\n",
    "\n",
    "    unique_labels, label_counts = np.unique(all_labels, return_counts=True)\n",
    "    total_samples = len(all_labels)\n",
    "    class_proportions = {label: round(count / total_samples,2)*100 for label, count in zip(unique_labels, label_counts)}\n",
    "\n",
    "    return class_proportions\n"
   ]
  },
  {
   "cell_type": "markdown",
   "metadata": {},
   "source": [
    "Création de l'échantillon"
   ]
  },
  {
   "cell_type": "code",
   "execution_count": 78,
   "metadata": {},
   "outputs": [
    {
     "name": "stdout",
     "output_type": "stream",
     "text": [
      "Found 497 files belonging to 3 classes.\n",
      "Using 299 files for training.\n",
      "Found 497 files belonging to 3 classes.\n",
      "Using 198 files for validation.\n",
      "Noms des sous-dossiers (class_names) : ['n02085620-Chihuahua', 'n02088364-beagle', 'n02099601-golden_retriever']\n",
      "Proportion des classes dans l'ensemble d'entraînement : {0: 30.0, 1: 40.0, 2: 28.999999999999996}\n",
      "Proportion des classes dans l'ensemble de validation : {0: 32.0, 1: 40.0, 2: 28.000000000000004}\n",
      "Proportion des classes dans l'ensemble de test : {0: 30.0, 1: 44.0, 2: 26.0}\n"
     ]
    }
   ],
   "source": [
    "path_2 = '/Users/orphila_adjovi/PJT6_Open_classrooms_MLE/img'\n",
    "\n",
    "train_ds_sample = tf.keras.utils.image_dataset_from_directory(\n",
    "    path_2,\n",
    "    validation_split=0.4,\n",
    "    subset=\"training\",\n",
    "    seed=0,\n",
    "    image_size=image_size,\n",
    "    batch_size=batch_size,\n",
    ")\n",
    "\n",
    "val_ds_sample = tf.keras.utils.image_dataset_from_directory(\n",
    "    path_2,\n",
    "    validation_split=0.4,\n",
    "    subset=\"validation\",\n",
    "    seed=0,\n",
    "    image_size=image_size,\n",
    "    batch_size=batch_size,\n",
    ")\n",
    "\n",
    "sample_classes = train_ds_sample.class_names\n",
    "print(\"Noms des sous-dossiers (class_names) :\", sample_classes)\n",
    "\n",
    "test_ds_sample = val_ds_sample.take(len(val_ds_sample) // 2)\n",
    "val_ds_sample = val_ds_sample.skip(len(val_ds_sample) // 2)\n",
    "\n",
    "\n",
    "\n",
    "train_class_proportions = get_class_proportions(train_ds_sample)\n",
    "print(\"Proportion des classes dans l'ensemble d'entraînement :\", train_class_proportions)\n",
    "val_class_proportions = get_class_proportions(val_ds_sample)\n",
    "print(\"Proportion des classes dans l'ensemble de validation :\", val_class_proportions)\n",
    "test_class_proportions = get_class_proportions(test_ds_sample)\n",
    "print(\"Proportion des classes dans l'ensemble de test :\", test_class_proportions)\n",
    "\n"
   ]
  },
  {
   "cell_type": "markdown",
   "metadata": {},
   "source": [
    "Création du premier CNN"
   ]
  },
  {
   "cell_type": "code",
   "execution_count": 79,
   "metadata": {},
   "outputs": [],
   "source": [
    "# Fonctions de prétraitement\n",
    "from tensorflow.keras import layers\n",
    "import numpy as np\n",
    "from tensorflow.keras.preprocessing.image import ImageDataGenerator\n",
    "\n",
    "data_augmentation_layers = [\n",
    "    layers.RandomFlip(\"horizontal\"),\n",
    "    layers.RandomRotation(0.1),\n",
    "]\n",
    "data_augmentation_2_layers = [\n",
    "    layers.RandomZoom(0.2),\n",
    "]\n",
    "\n",
    "def data_augmentation(images):\n",
    "    for layer in data_augmentation_layers:\n",
    "        images = layer(images)\n",
    "    return images\n",
    "\n",
    "\n",
    "def data_augmentation_2(images):\n",
    "    for layer in data_augmentation_2_layers:\n",
    "        images = layer(images)\n",
    "    return images\n",
    "\n",
    "#Scaling du nombre de pixels \n",
    "def data_standardisation(images):\n",
    "    \"\"\"output = (input-offset)/scale, offset à zéro\"\"\"\n",
    "    images = layers.Rescaling(scale=1.5)(images)\n",
    "    return images\n",
    "\n",
    "def convert_to_grayscale(images):\n",
    "    if images.shape[-1] == 3:\n",
    "        grayscale_images = tf.image.rgb_to_grayscale(images)\n",
    "        return grayscale_images\n",
    "    else:\n",
    "        return images"
   ]
  },
  {
   "cell_type": "code",
   "execution_count": 80,
   "metadata": {},
   "outputs": [],
   "source": [
    "#modèle 1\n",
    "from tensorflow import keras\n",
    "from tensorflow.keras.layers import Conv2D\n",
    "\n",
    "\n",
    "# Création du modèle\n",
    "model = keras.Sequential([\n",
    "    # Couches de prétraitement\n",
    "    layers.Lambda(convert_to_grayscale),\n",
    "    layers.Lambda(data_standardisation),\n",
    "    \n",
    "    # Couches de convolution et de pooling\n",
    "    Conv2D(32, (3, 3), activation='relu',input_shape=(224, 224, 3)),\n",
    "    layers.MaxPooling2D((2, 2)),\n",
    "    Conv2D(64, (3, 3), activation='relu'),\n",
    "    layers.MaxPooling2D((2, 2)),\n",
    "    layers.Conv2D(128, (3, 3), activation='relu'),\n",
    "    layers.MaxPooling2D((2, 2)),\n",
    "\n",
    "    # Transition vers les couches denses\n",
    "    layers.Flatten(),\n",
    "    # Couches denses\n",
    "    layers.Dense(512, activation='relu'),\n",
    "    layers.Dense(120, activation='softmax') \n",
    "])"
   ]
  },
  {
   "cell_type": "markdown",
   "metadata": {},
   "source": [
    "Fit, test et evaluation du 1er modèle "
   ]
  },
  {
   "cell_type": "code",
   "execution_count": 98,
   "metadata": {},
   "outputs": [
    {
     "name": "stderr",
     "output_type": "stream",
     "text": [
      "2024/02/09 18:23:55 WARNING mlflow.tensorflow: You are saving a TensorFlow Core model or Keras model without a signature. Inference with mlflow.pyfunc.spark_udf() will not work unless the model's pyfunc representation accepts pandas DataFrames as inference inputs.\n"
     ]
    },
    {
     "name": "stdout",
     "output_type": "stream",
     "text": [
      "WARNING:tensorflow:Skipping full serialization of Keras layer <keras.src.engine.sequential.Sequential object at 0x7fe5be837190>, because it is not built.\n"
     ]
    },
    {
     "name": "stderr",
     "output_type": "stream",
     "text": [
      "WARNING:tensorflow:Skipping full serialization of Keras layer <keras.src.engine.sequential.Sequential object at 0x7fe5be837190>, because it is not built.\n"
     ]
    },
    {
     "ename": "ValueError",
     "evalue": "Model <keras.src.engine.sequential.Sequential object at 0x7fe5be837190> cannot be saved because the input shape is not available. Please specify an input shape either by calling `build(input_shape)` directly, or by calling the model on actual data using `Model()`, `Model.fit()`, or `Model.predict()`.",
     "output_type": "error",
     "traceback": [
      "\u001b[0;31m---------------------------------------------------------------------------\u001b[0m",
      "\u001b[0;31mValueError\u001b[0m                                Traceback (most recent call last)",
      "\u001b[1;32m/Users/orphila_adjovi/PJT6_Open_classrooms_MLE/Adjovi_Orphila_2_notebook_model_perso_022024.ipynb Cell 9\u001b[0m line \u001b[0;36m5\n\u001b[1;32m     <a href='vscode-notebook-cell:/Users/orphila_adjovi/PJT6_Open_classrooms_MLE/Adjovi_Orphila_2_notebook_model_perso_022024.ipynb#X11sZmlsZQ%3D%3D?line=47'>48</a>\u001b[0m         mlflow\u001b[39m.\u001b[39mlog_metric(\u001b[39m\"\u001b[39m\u001b[39maccuracy\u001b[39m\u001b[39m\"\u001b[39m, accuracy)\n\u001b[1;32m     <a href='vscode-notebook-cell:/Users/orphila_adjovi/PJT6_Open_classrooms_MLE/Adjovi_Orphila_2_notebook_model_perso_022024.ipynb#X11sZmlsZQ%3D%3D?line=49'>50</a>\u001b[0m     \u001b[39mreturn\u001b[39;00m mdl\n\u001b[0;32m---> <a href='vscode-notebook-cell:/Users/orphila_adjovi/PJT6_Open_classrooms_MLE/Adjovi_Orphila_2_notebook_model_perso_022024.ipynb#X11sZmlsZQ%3D%3D?line=52'>53</a>\u001b[0m first_cnn_from_scratch \u001b[39m=\u001b[39m train_model(model, train_ds_sample, val_ds_sample, test_ds_sample, \u001b[39m'\u001b[39;49m\u001b[39madam\u001b[39;49m\u001b[39m'\u001b[39;49m,\u001b[39m\"\u001b[39;49m\u001b[39mfirst_cnn_from_scratch\u001b[39;49m\u001b[39m\"\u001b[39;49m)\n",
      "\u001b[1;32m/Users/orphila_adjovi/PJT6_Open_classrooms_MLE/Adjovi_Orphila_2_notebook_model_perso_022024.ipynb Cell 9\u001b[0m line \u001b[0;36m2\n\u001b[1;32m     <a href='vscode-notebook-cell:/Users/orphila_adjovi/PJT6_Open_classrooms_MLE/Adjovi_Orphila_2_notebook_model_perso_022024.ipynb#X11sZmlsZQ%3D%3D?line=15'>16</a>\u001b[0m \u001b[39mwith\u001b[39;00m mlflow\u001b[39m.\u001b[39mstart_run(run_name \u001b[39m=\u001b[39m name):\n\u001b[1;32m     <a href='vscode-notebook-cell:/Users/orphila_adjovi/PJT6_Open_classrooms_MLE/Adjovi_Orphila_2_notebook_model_perso_022024.ipynb#X11sZmlsZQ%3D%3D?line=16'>17</a>\u001b[0m \u001b[39m    \u001b[39m\u001b[39m\"\"\"\u001b[39;00m\n\u001b[1;32m     <a href='vscode-notebook-cell:/Users/orphila_adjovi/PJT6_Open_classrooms_MLE/Adjovi_Orphila_2_notebook_model_perso_022024.ipynb#X11sZmlsZQ%3D%3D?line=17'>18</a>\u001b[0m \u001b[39m    mlflow.tensorflow.log_model(\u001b[39;00m\n\u001b[1;32m     <a href='vscode-notebook-cell:/Users/orphila_adjovi/PJT6_Open_classrooms_MLE/Adjovi_Orphila_2_notebook_model_perso_022024.ipynb#X11sZmlsZQ%3D%3D?line=18'>19</a>\u001b[0m \u001b[39m        model=mdl,\u001b[39;00m\n\u001b[0;32m   (...)\u001b[0m\n\u001b[1;32m     <a href='vscode-notebook-cell:/Users/orphila_adjovi/PJT6_Open_classrooms_MLE/Adjovi_Orphila_2_notebook_model_perso_022024.ipynb#X11sZmlsZQ%3D%3D?line=21'>22</a>\u001b[0m \u001b[39m        input_example=test_ens.take(1),  # Exemple d'entrée pour l'enregistrement)\u001b[39;00m\n\u001b[1;32m     <a href='vscode-notebook-cell:/Users/orphila_adjovi/PJT6_Open_classrooms_MLE/Adjovi_Orphila_2_notebook_model_perso_022024.ipynb#X11sZmlsZQ%3D%3D?line=22'>23</a>\u001b[0m \u001b[39m    \"\"\"\u001b[39;00m\n\u001b[0;32m---> <a href='vscode-notebook-cell:/Users/orphila_adjovi/PJT6_Open_classrooms_MLE/Adjovi_Orphila_2_notebook_model_perso_022024.ipynb#X11sZmlsZQ%3D%3D?line=23'>24</a>\u001b[0m     mlflow\u001b[39m.\u001b[39;49mtensorflow\u001b[39m.\u001b[39;49mlog_model(model, artifact_path\u001b[39m=\u001b[39;49m\u001b[39m\"\u001b[39;49m\u001b[39mcnn-model\u001b[39;49m\u001b[39m\"\u001b[39;49m,signature\u001b[39m=\u001b[39;49m\u001b[39mFalse\u001b[39;49;00m)\n\u001b[1;32m     <a href='vscode-notebook-cell:/Users/orphila_adjovi/PJT6_Open_classrooms_MLE/Adjovi_Orphila_2_notebook_model_perso_022024.ipynb#X11sZmlsZQ%3D%3D?line=24'>25</a>\u001b[0m     mlflow\u001b[39m.\u001b[39mlog_param(\u001b[39m\"\u001b[39m\u001b[39moptimizer\u001b[39m\u001b[39m\"\u001b[39m, optimizer)\n\u001b[1;32m     <a href='vscode-notebook-cell:/Users/orphila_adjovi/PJT6_Open_classrooms_MLE/Adjovi_Orphila_2_notebook_model_perso_022024.ipynb#X11sZmlsZQ%3D%3D?line=25'>26</a>\u001b[0m     mlflow\u001b[39m.\u001b[39mlog_param(\u001b[39m\"\u001b[39m\u001b[39mepochs\u001b[39m\u001b[39m\"\u001b[39m, \u001b[39m3\u001b[39m)\n",
      "File \u001b[0;32m~/PJT6_Open_classrooms_MLE/.venv/lib/python3.10/site-packages/mlflow/tensorflow/__init__.py:219\u001b[0m, in \u001b[0;36mlog_model\u001b[0;34m(model, artifact_path, custom_objects, conda_env, code_paths, signature, input_example, registered_model_name, await_registration_for, pip_requirements, extra_pip_requirements, saved_model_kwargs, keras_model_kwargs, metadata)\u001b[0m\n\u001b[1;32m    137\u001b[0m \u001b[39m@format_docstring\u001b[39m(LOG_MODEL_PARAM_DOCS\u001b[39m.\u001b[39mformat(package_name\u001b[39m=\u001b[39mFLAVOR_NAME))\n\u001b[1;32m    138\u001b[0m \u001b[39mdef\u001b[39;00m \u001b[39mlog_model\u001b[39m(\n\u001b[1;32m    139\u001b[0m     model,\n\u001b[0;32m   (...)\u001b[0m\n\u001b[1;32m    152\u001b[0m     metadata\u001b[39m=\u001b[39m\u001b[39mNone\u001b[39;00m,\n\u001b[1;32m    153\u001b[0m ):\n\u001b[1;32m    154\u001b[0m \u001b[39m    \u001b[39m\u001b[39m\"\"\"\u001b[39;00m\n\u001b[1;32m    155\u001b[0m \u001b[39m    Log a TF2 core model (inheriting tf.Module) or a Keras model in MLflow Model format.\u001b[39;00m\n\u001b[1;32m    156\u001b[0m \n\u001b[0;32m   (...)\u001b[0m\n\u001b[1;32m    216\u001b[0m \u001b[39m        metadata of the logged model.\u001b[39;00m\n\u001b[1;32m    217\u001b[0m \u001b[39m    \"\"\"\u001b[39;00m\n\u001b[0;32m--> 219\u001b[0m     \u001b[39mreturn\u001b[39;00m Model\u001b[39m.\u001b[39;49mlog(\n\u001b[1;32m    220\u001b[0m         artifact_path\u001b[39m=\u001b[39;49martifact_path,\n\u001b[1;32m    221\u001b[0m         flavor\u001b[39m=\u001b[39;49mmlflow\u001b[39m.\u001b[39;49mtensorflow,\n\u001b[1;32m    222\u001b[0m         model\u001b[39m=\u001b[39;49mmodel,\n\u001b[1;32m    223\u001b[0m         conda_env\u001b[39m=\u001b[39;49mconda_env,\n\u001b[1;32m    224\u001b[0m         code_paths\u001b[39m=\u001b[39;49mcode_paths,\n\u001b[1;32m    225\u001b[0m         custom_objects\u001b[39m=\u001b[39;49mcustom_objects,\n\u001b[1;32m    226\u001b[0m         registered_model_name\u001b[39m=\u001b[39;49mregistered_model_name,\n\u001b[1;32m    227\u001b[0m         signature\u001b[39m=\u001b[39;49msignature,\n\u001b[1;32m    228\u001b[0m         input_example\u001b[39m=\u001b[39;49minput_example,\n\u001b[1;32m    229\u001b[0m         await_registration_for\u001b[39m=\u001b[39;49mawait_registration_for,\n\u001b[1;32m    230\u001b[0m         pip_requirements\u001b[39m=\u001b[39;49mpip_requirements,\n\u001b[1;32m    231\u001b[0m         extra_pip_requirements\u001b[39m=\u001b[39;49mextra_pip_requirements,\n\u001b[1;32m    232\u001b[0m         saved_model_kwargs\u001b[39m=\u001b[39;49msaved_model_kwargs,\n\u001b[1;32m    233\u001b[0m         keras_model_kwargs\u001b[39m=\u001b[39;49mkeras_model_kwargs,\n\u001b[1;32m    234\u001b[0m         metadata\u001b[39m=\u001b[39;49mmetadata,\n\u001b[1;32m    235\u001b[0m     )\n",
      "File \u001b[0;32m~/PJT6_Open_classrooms_MLE/.venv/lib/python3.10/site-packages/mlflow/models/model.py:622\u001b[0m, in \u001b[0;36mModel.log\u001b[0;34m(cls, artifact_path, flavor, registered_model_name, await_registration_for, metadata, run_id, **kwargs)\u001b[0m\n\u001b[1;32m    616\u001b[0m \u001b[39mif\u001b[39;00m (\n\u001b[1;32m    617\u001b[0m     (tracking_uri \u001b[39m==\u001b[39m \u001b[39m\"\u001b[39m\u001b[39mdatabricks\u001b[39m\u001b[39m\"\u001b[39m \u001b[39mor\u001b[39;00m get_uri_scheme(tracking_uri) \u001b[39m==\u001b[39m \u001b[39m\"\u001b[39m\u001b[39mdatabricks\u001b[39m\u001b[39m\"\u001b[39m)\n\u001b[1;32m    618\u001b[0m     \u001b[39mand\u001b[39;00m kwargs\u001b[39m.\u001b[39mget(\u001b[39m\"\u001b[39m\u001b[39msignature\u001b[39m\u001b[39m\"\u001b[39m) \u001b[39mis\u001b[39;00m \u001b[39mNone\u001b[39;00m\n\u001b[1;32m    619\u001b[0m     \u001b[39mand\u001b[39;00m kwargs\u001b[39m.\u001b[39mget(\u001b[39m\"\u001b[39m\u001b[39minput_example\u001b[39m\u001b[39m\"\u001b[39m) \u001b[39mis\u001b[39;00m \u001b[39mNone\u001b[39;00m\n\u001b[1;32m    620\u001b[0m ):\n\u001b[1;32m    621\u001b[0m     _logger\u001b[39m.\u001b[39mwarning(_LOG_MODEL_MISSING_SIGNATURE_WARNING)\n\u001b[0;32m--> 622\u001b[0m flavor\u001b[39m.\u001b[39;49msave_model(path\u001b[39m=\u001b[39;49mlocal_path, mlflow_model\u001b[39m=\u001b[39;49mmlflow_model, \u001b[39m*\u001b[39;49m\u001b[39m*\u001b[39;49mkwargs)\n\u001b[1;32m    623\u001b[0m mlflow\u001b[39m.\u001b[39mtracking\u001b[39m.\u001b[39mfluent\u001b[39m.\u001b[39mlog_artifacts(local_path, mlflow_model\u001b[39m.\u001b[39martifact_path, run_id)\n\u001b[1;32m    624\u001b[0m \u001b[39mtry\u001b[39;00m:\n",
      "File \u001b[0;32m~/PJT6_Open_classrooms_MLE/.venv/lib/python3.10/site-packages/mlflow/tensorflow/__init__.py:443\u001b[0m, in \u001b[0;36msave_model\u001b[0;34m(model, path, conda_env, code_paths, mlflow_model, custom_objects, signature, input_example, pip_requirements, extra_pip_requirements, saved_model_kwargs, keras_model_kwargs, metadata)\u001b[0m\n\u001b[1;32m    441\u001b[0m         shutil\u001b[39m.\u001b[39mcopy2(src\u001b[39m=\u001b[39mf\u001b[39m.\u001b[39mname, dst\u001b[39m=\u001b[39mmodel_path)\n\u001b[1;32m    442\u001b[0m \u001b[39melse\u001b[39;00m:\n\u001b[0;32m--> 443\u001b[0m     model\u001b[39m.\u001b[39;49msave(model_path, \u001b[39m*\u001b[39;49m\u001b[39m*\u001b[39;49mkeras_model_kwargs)\n\u001b[1;32m    445\u001b[0m pyfunc_options \u001b[39m=\u001b[39m {\n\u001b[1;32m    446\u001b[0m     \u001b[39m\"\u001b[39m\u001b[39mdata\u001b[39m\u001b[39m\"\u001b[39m: data_subpath,\n\u001b[1;32m    447\u001b[0m }\n\u001b[1;32m    449\u001b[0m flavor_options \u001b[39m=\u001b[39m {\n\u001b[1;32m    450\u001b[0m     \u001b[39m*\u001b[39m\u001b[39m*\u001b[39mpyfunc_options,\n\u001b[1;32m    451\u001b[0m     \u001b[39m\"\u001b[39m\u001b[39mmodel_type\u001b[39m\u001b[39m\"\u001b[39m: _MODEL_TYPE_KERAS,\n\u001b[1;32m    452\u001b[0m     \u001b[39m\"\u001b[39m\u001b[39mkeras_version\u001b[39m\u001b[39m\"\u001b[39m: tf\u001b[39m.\u001b[39m__version__,\n\u001b[1;32m    453\u001b[0m     \u001b[39m\"\u001b[39m\u001b[39msave_format\u001b[39m\u001b[39m\"\u001b[39m: save_format,\n\u001b[1;32m    454\u001b[0m }\n",
      "File \u001b[0;32m~/PJT6_Open_classrooms_MLE/.venv/lib/python3.10/site-packages/keras/src/utils/traceback_utils.py:70\u001b[0m, in \u001b[0;36mfilter_traceback.<locals>.error_handler\u001b[0;34m(*args, **kwargs)\u001b[0m\n\u001b[1;32m     67\u001b[0m     filtered_tb \u001b[39m=\u001b[39m _process_traceback_frames(e\u001b[39m.\u001b[39m__traceback__)\n\u001b[1;32m     68\u001b[0m     \u001b[39m# To get the full stack trace, call:\u001b[39;00m\n\u001b[1;32m     69\u001b[0m     \u001b[39m# `tf.debugging.disable_traceback_filtering()`\u001b[39;00m\n\u001b[0;32m---> 70\u001b[0m     \u001b[39mraise\u001b[39;00m e\u001b[39m.\u001b[39mwith_traceback(filtered_tb) \u001b[39mfrom\u001b[39;00m \u001b[39mNone\u001b[39;00m\n\u001b[1;32m     71\u001b[0m \u001b[39mfinally\u001b[39;00m:\n\u001b[1;32m     72\u001b[0m     \u001b[39mdel\u001b[39;00m filtered_tb\n",
      "File \u001b[0;32m~/PJT6_Open_classrooms_MLE/.venv/lib/python3.10/site-packages/keras/src/saving/legacy/saving_utils.py:88\u001b[0m, in \u001b[0;36mraise_model_input_error\u001b[0;34m(model)\u001b[0m\n\u001b[1;32m     86\u001b[0m \u001b[39mdef\u001b[39;00m \u001b[39mraise_model_input_error\u001b[39m(model):\n\u001b[1;32m     87\u001b[0m     \u001b[39mif\u001b[39;00m \u001b[39misinstance\u001b[39m(model, keras\u001b[39m.\u001b[39mmodels\u001b[39m.\u001b[39mSequential):\n\u001b[0;32m---> 88\u001b[0m         \u001b[39mraise\u001b[39;00m \u001b[39mValueError\u001b[39;00m(\n\u001b[1;32m     89\u001b[0m             \u001b[39mf\u001b[39m\u001b[39m\"\u001b[39m\u001b[39mModel \u001b[39m\u001b[39m{\u001b[39;00mmodel\u001b[39m}\u001b[39;00m\u001b[39m cannot be saved because the input shape is not \u001b[39m\u001b[39m\"\u001b[39m\n\u001b[1;32m     90\u001b[0m             \u001b[39m\"\u001b[39m\u001b[39mavailable. Please specify an input shape either by calling \u001b[39m\u001b[39m\"\u001b[39m\n\u001b[1;32m     91\u001b[0m             \u001b[39m\"\u001b[39m\u001b[39m`build(input_shape)` directly, or by calling the model on actual \u001b[39m\u001b[39m\"\u001b[39m\n\u001b[1;32m     92\u001b[0m             \u001b[39m\"\u001b[39m\u001b[39mdata using `Model()`, `Model.fit()`, or `Model.predict()`.\u001b[39m\u001b[39m\"\u001b[39m\n\u001b[1;32m     93\u001b[0m         )\n\u001b[1;32m     95\u001b[0m     \u001b[39m# If the model is not a `Sequential`, it is intended to be a subclassed\u001b[39;00m\n\u001b[1;32m     96\u001b[0m     \u001b[39m# model.\u001b[39;00m\n\u001b[1;32m     97\u001b[0m     \u001b[39mraise\u001b[39;00m \u001b[39mValueError\u001b[39;00m(\n\u001b[1;32m     98\u001b[0m         \u001b[39mf\u001b[39m\u001b[39m\"\u001b[39m\u001b[39mModel \u001b[39m\u001b[39m{\u001b[39;00mmodel\u001b[39m}\u001b[39;00m\u001b[39m cannot be saved either because the input shape is not \u001b[39m\u001b[39m\"\u001b[39m\n\u001b[1;32m     99\u001b[0m         \u001b[39m\"\u001b[39m\u001b[39mavailable or because the forward pass of the model is not defined.\u001b[39m\u001b[39m\"\u001b[39m\n\u001b[0;32m   (...)\u001b[0m\n\u001b[1;32m    105\u001b[0m         \u001b[39m\"\u001b[39m\u001b[39m`Model.__call__`, i.e. `model(inputs)`, as opposed to `model.call()`.\u001b[39m\u001b[39m\"\u001b[39m\n\u001b[1;32m    106\u001b[0m     )\n",
      "\u001b[0;31mValueError\u001b[0m: Model <keras.src.engine.sequential.Sequential object at 0x7fe5be837190> cannot be saved because the input shape is not available. Please specify an input shape either by calling `build(input_shape)` directly, or by calling the model on actual data using `Model()`, `Model.fit()`, or `Model.predict()`."
     ]
    }
   ],
   "source": [
    "# 1er modèle\n",
    "from sklearn.metrics import confusion_matrix\n",
    "import seaborn as sns\n",
    "import matplotlib.pyplot as plt\n",
    "\n",
    "import mlflow\n",
    "mlflow.tensorflow.autolog()\n",
    "\n",
    "def train_model(mdl, train_ens, val_ens, test_ens, optimizer,name):\n",
    "    class_ens = train_ens.class_names\n",
    "    mdl.compile(optimizer=optimizer,\n",
    "                loss='sparse_categorical_crossentropy',\n",
    "                metrics=['accuracy'])\n",
    "    \n",
    "    # Commencer une expérience MLflow\n",
    "    with mlflow.start_run(run_name = name):\n",
    "        \"\"\"\n",
    "        mlflow.tensorflow.log_model(\n",
    "            model=mdl,\n",
    "            artifact_path='model',\n",
    "            registered_model_name=\"cnn \"+name,\n",
    "            input_example=test_ens.take(1),  # Exemple d'entrée pour l'enregistrement)\n",
    "        \"\"\"\n",
    "        mlflow.tensorflow.log_model(model, artifact_path=\"cnn-model\",input_example=test_ens.take(1),signature=False)\n",
    "        mlflow.log_param(\"optimizer\", optimizer)\n",
    "        mlflow.log_param(\"epochs\", 3)\n",
    "\n",
    "        mdl.fit(train_ens, validation_data=val_ens, epochs=3)\n",
    "        # Prédiction pour l'ensemble de test\n",
    "        y_pred = mdl.predict(test_ens)\n",
    "        # Convertir les prédictions en classes\n",
    "        y_pred_classes = np.argmax(y_pred, axis=1)\n",
    "        # Convertir les étiquettes de l'ensemble de test en classes\n",
    "        y_true = np.concatenate([y for x, y in test_ens], axis=0)\n",
    "        \"\"\"\n",
    "        # Calculer la matrice de confusion\n",
    "        cm = confusion_matrix(y_true, y_pred_classes)\n",
    "        plt.figure(figsize=(10, 8))\n",
    "        sns.heatmap(cm, annot=True, cmap=\"Reds\",xticklabels=class_ens, yticklabels=class_ens)\n",
    "        plt.xlabel('Predicted')\n",
    "        plt.ylabel('True')\n",
    "        plt.title('Matrice de Confusion - Ensemble de Test')\n",
    "        plt.show()\n",
    "        \"\"\"\n",
    "        # Évaluer l'exactitude sur l'ensemble de test\n",
    "        accuracy = mdl.evaluate(test_ens, verbose=0)[1]\n",
    "        print(f\"Précision sur le test: {accuracy}\")\n",
    "        mlflow.log_metric(\"accuracy\", accuracy)\n",
    "\n",
    "    return mdl\n",
    "\n",
    "\n",
    "first_cnn_from_scratch = train_model(model, train_ds_sample, val_ds_sample, test_ds_sample, 'adam',\"first_cnn_from_scratch\")"
   ]
  },
  {
   "cell_type": "markdown",
   "metadata": {},
   "source": [
    "Amélioration du modèle"
   ]
  },
  {
   "cell_type": "code",
   "execution_count": null,
   "metadata": {},
   "outputs": [
    {
     "name": "stdout",
     "output_type": "stream",
     "text": [
      "Epoch 1/3\n",
      "3/3 [==============================] - 14s 4s/step - loss: 39.8289 - accuracy: 0.1739 - val_loss: 31.3713 - val_accuracy: 0.3590\n",
      "Epoch 2/3\n",
      "3/3 [==============================] - 14s 4s/step - loss: 15.2642 - accuracy: 0.3579 - val_loss: 1.9805 - val_accuracy: 0.2436\n",
      "Epoch 3/3\n",
      "3/3 [==============================] - 13s 4s/step - loss: 2.0120 - accuracy: 0.3478 - val_loss: 1.6176 - val_accuracy: 0.2821\n",
      "1/1 [==============================] - 1s 1s/step\n",
      "Précision sur le test: 0.3083333373069763\n"
     ]
    }
   ],
   "source": [
    "model_2 = keras.Sequential([\n",
    "    # Couches de prétraitement\n",
    "    layers.Lambda(convert_to_grayscale),\n",
    "    layers.Lambda(data_standardisation),\n",
    "    layers.Lambda(data_augmentation),\n",
    "\n",
    "    # Couches de convolution et de pooling\n",
    "    Conv2D(32, (3, 3), activation='relu'),\n",
    "    layers.MaxPooling2D((2, 2)),\n",
    "    Conv2D(64, (3, 3), activation='relu'),\n",
    "    layers.MaxPooling2D((2, 2)),\n",
    "    layers.Conv2D(128, (3, 3), activation='relu'),\n",
    "    layers.MaxPooling2D((2, 2)),\n",
    "    layers.Conv2D(256, (3, 3), activation='relu'),\n",
    "    layers.MaxPooling2D((2, 2)),\n",
    "\n",
    "    # Transition vers les couches denses\n",
    "    layers.Flatten(),\n",
    "\n",
    "    # Couches denses\n",
    "    layers.Dense(512, activation='relu'),\n",
    "    layers.Dropout(0.2),  # Ajout d'une couche de dropout pour la régularisation\n",
    "    layers.Dense(256, activation='relu'),\n",
    "    layers.Dropout(0.2),  # Ajout d'une autre couche de dropout\n",
    "    layers.Dense(120, activation='softmax') \n",
    "])\n",
    "\n",
    "cnn_with_data_augmentation = train_model(model_2,train_ds_sample,val_ds_sample, test_ds_sample,'adam',\"cnn_with_data_augmentation\")"
   ]
  },
  {
   "cell_type": "markdown",
   "metadata": {},
   "source": [
    "Ajout de la 2eme data augment"
   ]
  },
  {
   "cell_type": "code",
   "execution_count": null,
   "metadata": {},
   "outputs": [
    {
     "name": "stdout",
     "output_type": "stream",
     "text": [
      "Epoch 1/3\n"
     ]
    },
    {
     "name": "stdout",
     "output_type": "stream",
     "text": [
      "3/3 [==============================] - 17s 4s/step - loss: 63.1546 - accuracy: 0.0502 - val_loss: 1.9580 - val_accuracy: 0.4231\n",
      "Epoch 2/3\n",
      "3/3 [==============================] - 13s 4s/step - loss: 5.2117 - accuracy: 0.2007 - val_loss: 1.4058 - val_accuracy: 0.3590\n",
      "Epoch 3/3\n",
      "3/3 [==============================] - 13s 4s/step - loss: 2.3992 - accuracy: 0.3378 - val_loss: 1.3036 - val_accuracy: 0.3462\n",
      "1/1 [==============================] - 1s 1s/step\n",
      "Précision sur le test: 0.4333333373069763\n"
     ]
    }
   ],
   "source": [
    "model_2_1 = keras.Sequential([\n",
    "    # Couches de prétraitement\n",
    "    layers.Lambda(convert_to_grayscale),\n",
    "    layers.Lambda(data_standardisation),\n",
    "    layers.Lambda(data_augmentation),\n",
    "    layers.Lambda(data_augmentation_2),\n",
    "\n",
    "    # Couches de convolution et de pooling\n",
    "    Conv2D(32, (3, 3), activation='relu'),\n",
    "    layers.MaxPooling2D((2, 2)),\n",
    "    Conv2D(64, (3, 3), activation='relu'),\n",
    "    layers.MaxPooling2D((2, 2)),\n",
    "    layers.Conv2D(128, (3, 3), activation='relu'),\n",
    "    layers.MaxPooling2D((2, 2)),\n",
    "    layers.Conv2D(256, (3, 3), activation='relu'),\n",
    "    layers.MaxPooling2D((2, 2)),\n",
    "\n",
    "    # Transition vers les couches denses\n",
    "    layers.Flatten(),\n",
    "\n",
    "    # Couches denses\n",
    "    layers.Dense(512, activation='relu'),\n",
    "    layers.Dropout(0.5),  # Ajout d'une couche de dropout pour la régularisation\n",
    "    layers.Dense(256, activation='relu'),\n",
    "    layers.Dropout(0.5),  # Ajout d'une autre couche de dropout\n",
    "    layers.Dense(256, activation='relu'),\n",
    "    layers.Dropout(0.5),  # Ajout d'une autre couche de dropout\n",
    "    layers.Dense(120, activation='softmax') \n",
    "])\n",
    "\n",
    "cnn_with_data_augmentation_2 = train_model(model_2_1,train_ds_sample,val_ds_sample,test_ds_sample,\"adam\",\"cnn_with_data_augmentation_2\")"
   ]
  },
  {
   "cell_type": "markdown",
   "metadata": {},
   "source": [
    "Optimisation des hyperparamètres avec optuna"
   ]
  },
  {
   "cell_type": "code",
   "execution_count": null,
   "metadata": {},
   "outputs": [
    {
     "name": "stderr",
     "output_type": "stream",
     "text": [
      "[I 2024-02-09 17:50:46,587] A new study created in memory with name: no-name-4a6fd0ba-96e1-4035-94c2-948463468761\n"
     ]
    },
    {
     "name": "stdout",
     "output_type": "stream",
     "text": [
      "1/1 [==============================] - 1s 880ms/step - loss: 4.6415 - accuracy: 0.2692\n"
     ]
    },
    {
     "name": "stderr",
     "output_type": "stream",
     "text": [
      "[I 2024-02-09 17:52:01,231] Trial 0 finished with value: 0.26923078298568726 and parameters: {'dropout_rate': 0.2690204970671646, 'learning_rate': 0.007577897859527736, 'num_epochs': 6}. Best is trial 0 with value: 0.26923078298568726.\n"
     ]
    },
    {
     "name": "stdout",
     "output_type": "stream",
     "text": [
      "1/1 [==============================] - 1s 1s/step - loss: 1.0790 - accuracy: 0.4231\n"
     ]
    },
    {
     "name": "stderr",
     "output_type": "stream",
     "text": [
      "[I 2024-02-09 17:54:27,509] Trial 1 finished with value: 0.42307692766189575 and parameters: {'dropout_rate': 0.29879410947390456, 'learning_rate': 0.004114869825661203, 'num_epochs': 8}. Best is trial 1 with value: 0.42307692766189575.\n",
      "[W 2024-02-09 17:55:57,488] Trial 2 failed with parameters: {'dropout_rate': 0.23512701347961015, 'learning_rate': 0.003382643919374594, 'num_epochs': 7} because of the following error: KeyboardInterrupt().\n",
      "Traceback (most recent call last):\n",
      "  File \"/Users/orphila_adjovi/PJT6_Open_classrooms_MLE/.venv/lib/python3.10/site-packages/optuna/study/_optimize.py\", line 200, in _run_trial\n",
      "    value_or_values = func(trial)\n",
      "  File \"/var/folders/_l/cjjst_c50lx2nkkr280zbp440000gp/T/ipykernel_1306/1786292663.py\", line 48, in objective\n",
      "    model.fit(train_ds_sample, validation_data=val_ds_sample, epochs=num_epochs, verbose=0)\n",
      "  File \"/Users/orphila_adjovi/PJT6_Open_classrooms_MLE/.venv/lib/python3.10/site-packages/keras/src/utils/traceback_utils.py\", line 65, in error_handler\n",
      "    return fn(*args, **kwargs)\n",
      "  File \"/Users/orphila_adjovi/PJT6_Open_classrooms_MLE/.venv/lib/python3.10/site-packages/keras/src/engine/training.py\", line 1807, in fit\n",
      "    tmp_logs = self.train_function(iterator)\n",
      "  File \"/Users/orphila_adjovi/PJT6_Open_classrooms_MLE/.venv/lib/python3.10/site-packages/tensorflow/python/util/traceback_utils.py\", line 150, in error_handler\n",
      "    return fn(*args, **kwargs)\n",
      "  File \"/Users/orphila_adjovi/PJT6_Open_classrooms_MLE/.venv/lib/python3.10/site-packages/tensorflow/python/eager/polymorphic_function/polymorphic_function.py\", line 832, in __call__\n",
      "    result = self._call(*args, **kwds)\n",
      "  File \"/Users/orphila_adjovi/PJT6_Open_classrooms_MLE/.venv/lib/python3.10/site-packages/tensorflow/python/eager/polymorphic_function/polymorphic_function.py\", line 868, in _call\n",
      "    return tracing_compilation.call_function(\n",
      "  File \"/Users/orphila_adjovi/PJT6_Open_classrooms_MLE/.venv/lib/python3.10/site-packages/tensorflow/python/eager/polymorphic_function/tracing_compilation.py\", line 139, in call_function\n",
      "    return function._call_flat(  # pylint: disable=protected-access\n",
      "  File \"/Users/orphila_adjovi/PJT6_Open_classrooms_MLE/.venv/lib/python3.10/site-packages/tensorflow/python/eager/polymorphic_function/concrete_function.py\", line 1323, in _call_flat\n",
      "    return self._inference_function.call_preflattened(args)\n",
      "  File \"/Users/orphila_adjovi/PJT6_Open_classrooms_MLE/.venv/lib/python3.10/site-packages/tensorflow/python/eager/polymorphic_function/atomic_function.py\", line 216, in call_preflattened\n",
      "    flat_outputs = self.call_flat(*args)\n",
      "  File \"/Users/orphila_adjovi/PJT6_Open_classrooms_MLE/.venv/lib/python3.10/site-packages/tensorflow/python/eager/polymorphic_function/atomic_function.py\", line 251, in call_flat\n",
      "    outputs = self._bound_context.call_function(\n",
      "  File \"/Users/orphila_adjovi/PJT6_Open_classrooms_MLE/.venv/lib/python3.10/site-packages/tensorflow/python/eager/context.py\", line 1486, in call_function\n",
      "    outputs = execute.execute(\n",
      "  File \"/Users/orphila_adjovi/PJT6_Open_classrooms_MLE/.venv/lib/python3.10/site-packages/tensorflow/python/eager/execute.py\", line 53, in quick_execute\n",
      "    tensors = pywrap_tfe.TFE_Py_Execute(ctx._handle, device_name, op_name,\n",
      "KeyboardInterrupt\n",
      "[W 2024-02-09 17:55:57,491] Trial 2 failed with value None.\n"
     ]
    },
    {
     "ename": "KeyboardInterrupt",
     "evalue": "",
     "output_type": "error",
     "traceback": [
      "\u001b[0;31m---------------------------------------------------------------------------\u001b[0m",
      "\u001b[0;31mKeyboardInterrupt\u001b[0m                         Traceback (most recent call last)",
      "\u001b[1;32m/Users/orphila_adjovi/PJT6_Open_classrooms_MLE/Adjovi_Orphila_2_notebook_model_perso_022024.ipynb Cell 15\u001b[0m line \u001b[0;36m5\n\u001b[1;32m     <a href='vscode-notebook-cell:/Users/orphila_adjovi/PJT6_Open_classrooms_MLE/Adjovi_Orphila_2_notebook_model_perso_022024.ipynb#X20sZmlsZQ%3D%3D?line=54'>55</a>\u001b[0m \u001b[39m# Création de l'étude Optuna\u001b[39;00m\n\u001b[1;32m     <a href='vscode-notebook-cell:/Users/orphila_adjovi/PJT6_Open_classrooms_MLE/Adjovi_Orphila_2_notebook_model_perso_022024.ipynb#X20sZmlsZQ%3D%3D?line=55'>56</a>\u001b[0m study \u001b[39m=\u001b[39m optuna\u001b[39m.\u001b[39mcreate_study(direction\u001b[39m=\u001b[39m\u001b[39m'\u001b[39m\u001b[39mmaximize\u001b[39m\u001b[39m'\u001b[39m)\n\u001b[0;32m---> <a href='vscode-notebook-cell:/Users/orphila_adjovi/PJT6_Open_classrooms_MLE/Adjovi_Orphila_2_notebook_model_perso_022024.ipynb#X20sZmlsZQ%3D%3D?line=56'>57</a>\u001b[0m study\u001b[39m.\u001b[39;49moptimize(objective, n_trials\u001b[39m=\u001b[39;49m\u001b[39m10\u001b[39;49m)\n\u001b[1;32m     <a href='vscode-notebook-cell:/Users/orphila_adjovi/PJT6_Open_classrooms_MLE/Adjovi_Orphila_2_notebook_model_perso_022024.ipynb#X20sZmlsZQ%3D%3D?line=58'>59</a>\u001b[0m \u001b[39m# Affichage des résultats\u001b[39;00m\n\u001b[1;32m     <a href='vscode-notebook-cell:/Users/orphila_adjovi/PJT6_Open_classrooms_MLE/Adjovi_Orphila_2_notebook_model_perso_022024.ipynb#X20sZmlsZQ%3D%3D?line=59'>60</a>\u001b[0m \u001b[39mprint\u001b[39m(\u001b[39m'\u001b[39m\u001b[39mNumber of finished trials: \u001b[39m\u001b[39m'\u001b[39m, \u001b[39mlen\u001b[39m(study\u001b[39m.\u001b[39mtrials))\n",
      "File \u001b[0;32m~/PJT6_Open_classrooms_MLE/.venv/lib/python3.10/site-packages/optuna/study/study.py:451\u001b[0m, in \u001b[0;36mStudy.optimize\u001b[0;34m(self, func, n_trials, timeout, n_jobs, catch, callbacks, gc_after_trial, show_progress_bar)\u001b[0m\n\u001b[1;32m    348\u001b[0m \u001b[39mdef\u001b[39;00m \u001b[39moptimize\u001b[39m(\n\u001b[1;32m    349\u001b[0m     \u001b[39mself\u001b[39m,\n\u001b[1;32m    350\u001b[0m     func: ObjectiveFuncType,\n\u001b[0;32m   (...)\u001b[0m\n\u001b[1;32m    357\u001b[0m     show_progress_bar: \u001b[39mbool\u001b[39m \u001b[39m=\u001b[39m \u001b[39mFalse\u001b[39;00m,\n\u001b[1;32m    358\u001b[0m ) \u001b[39m-\u001b[39m\u001b[39m>\u001b[39m \u001b[39mNone\u001b[39;00m:\n\u001b[1;32m    359\u001b[0m \u001b[39m    \u001b[39m\u001b[39m\"\"\"Optimize an objective function.\u001b[39;00m\n\u001b[1;32m    360\u001b[0m \n\u001b[1;32m    361\u001b[0m \u001b[39m    Optimization is done by choosing a suitable set of hyperparameter values from a given\u001b[39;00m\n\u001b[0;32m   (...)\u001b[0m\n\u001b[1;32m    449\u001b[0m \u001b[39m            If nested invocation of this method occurs.\u001b[39;00m\n\u001b[1;32m    450\u001b[0m \u001b[39m    \"\"\"\u001b[39;00m\n\u001b[0;32m--> 451\u001b[0m     _optimize(\n\u001b[1;32m    452\u001b[0m         study\u001b[39m=\u001b[39;49m\u001b[39mself\u001b[39;49m,\n\u001b[1;32m    453\u001b[0m         func\u001b[39m=\u001b[39;49mfunc,\n\u001b[1;32m    454\u001b[0m         n_trials\u001b[39m=\u001b[39;49mn_trials,\n\u001b[1;32m    455\u001b[0m         timeout\u001b[39m=\u001b[39;49mtimeout,\n\u001b[1;32m    456\u001b[0m         n_jobs\u001b[39m=\u001b[39;49mn_jobs,\n\u001b[1;32m    457\u001b[0m         catch\u001b[39m=\u001b[39;49m\u001b[39mtuple\u001b[39;49m(catch) \u001b[39mif\u001b[39;49;00m \u001b[39misinstance\u001b[39;49m(catch, Iterable) \u001b[39melse\u001b[39;49;00m (catch,),\n\u001b[1;32m    458\u001b[0m         callbacks\u001b[39m=\u001b[39;49mcallbacks,\n\u001b[1;32m    459\u001b[0m         gc_after_trial\u001b[39m=\u001b[39;49mgc_after_trial,\n\u001b[1;32m    460\u001b[0m         show_progress_bar\u001b[39m=\u001b[39;49mshow_progress_bar,\n\u001b[1;32m    461\u001b[0m     )\n",
      "File \u001b[0;32m~/PJT6_Open_classrooms_MLE/.venv/lib/python3.10/site-packages/optuna/study/_optimize.py:66\u001b[0m, in \u001b[0;36m_optimize\u001b[0;34m(study, func, n_trials, timeout, n_jobs, catch, callbacks, gc_after_trial, show_progress_bar)\u001b[0m\n\u001b[1;32m     64\u001b[0m \u001b[39mtry\u001b[39;00m:\n\u001b[1;32m     65\u001b[0m     \u001b[39mif\u001b[39;00m n_jobs \u001b[39m==\u001b[39m \u001b[39m1\u001b[39m:\n\u001b[0;32m---> 66\u001b[0m         _optimize_sequential(\n\u001b[1;32m     67\u001b[0m             study,\n\u001b[1;32m     68\u001b[0m             func,\n\u001b[1;32m     69\u001b[0m             n_trials,\n\u001b[1;32m     70\u001b[0m             timeout,\n\u001b[1;32m     71\u001b[0m             catch,\n\u001b[1;32m     72\u001b[0m             callbacks,\n\u001b[1;32m     73\u001b[0m             gc_after_trial,\n\u001b[1;32m     74\u001b[0m             reseed_sampler_rng\u001b[39m=\u001b[39;49m\u001b[39mFalse\u001b[39;49;00m,\n\u001b[1;32m     75\u001b[0m             time_start\u001b[39m=\u001b[39;49m\u001b[39mNone\u001b[39;49;00m,\n\u001b[1;32m     76\u001b[0m             progress_bar\u001b[39m=\u001b[39;49mprogress_bar,\n\u001b[1;32m     77\u001b[0m         )\n\u001b[1;32m     78\u001b[0m     \u001b[39melse\u001b[39;00m:\n\u001b[1;32m     79\u001b[0m         \u001b[39mif\u001b[39;00m n_jobs \u001b[39m==\u001b[39m \u001b[39m-\u001b[39m\u001b[39m1\u001b[39m:\n",
      "File \u001b[0;32m~/PJT6_Open_classrooms_MLE/.venv/lib/python3.10/site-packages/optuna/study/_optimize.py:163\u001b[0m, in \u001b[0;36m_optimize_sequential\u001b[0;34m(study, func, n_trials, timeout, catch, callbacks, gc_after_trial, reseed_sampler_rng, time_start, progress_bar)\u001b[0m\n\u001b[1;32m    160\u001b[0m         \u001b[39mbreak\u001b[39;00m\n\u001b[1;32m    162\u001b[0m \u001b[39mtry\u001b[39;00m:\n\u001b[0;32m--> 163\u001b[0m     frozen_trial \u001b[39m=\u001b[39m _run_trial(study, func, catch)\n\u001b[1;32m    164\u001b[0m \u001b[39mfinally\u001b[39;00m:\n\u001b[1;32m    165\u001b[0m     \u001b[39m# The following line mitigates memory problems that can be occurred in some\u001b[39;00m\n\u001b[1;32m    166\u001b[0m     \u001b[39m# environments (e.g., services that use computing containers such as GitHub Actions).\u001b[39;00m\n\u001b[1;32m    167\u001b[0m     \u001b[39m# Please refer to the following PR for further details:\u001b[39;00m\n\u001b[1;32m    168\u001b[0m     \u001b[39m# https://github.com/optuna/optuna/pull/325.\u001b[39;00m\n\u001b[1;32m    169\u001b[0m     \u001b[39mif\u001b[39;00m gc_after_trial:\n",
      "File \u001b[0;32m~/PJT6_Open_classrooms_MLE/.venv/lib/python3.10/site-packages/optuna/study/_optimize.py:251\u001b[0m, in \u001b[0;36m_run_trial\u001b[0;34m(study, func, catch)\u001b[0m\n\u001b[1;32m    244\u001b[0m         \u001b[39massert\u001b[39;00m \u001b[39mFalse\u001b[39;00m, \u001b[39m\"\u001b[39m\u001b[39mShould not reach.\u001b[39m\u001b[39m\"\u001b[39m\n\u001b[1;32m    246\u001b[0m \u001b[39mif\u001b[39;00m (\n\u001b[1;32m    247\u001b[0m     frozen_trial\u001b[39m.\u001b[39mstate \u001b[39m==\u001b[39m TrialState\u001b[39m.\u001b[39mFAIL\n\u001b[1;32m    248\u001b[0m     \u001b[39mand\u001b[39;00m func_err \u001b[39mis\u001b[39;00m \u001b[39mnot\u001b[39;00m \u001b[39mNone\u001b[39;00m\n\u001b[1;32m    249\u001b[0m     \u001b[39mand\u001b[39;00m \u001b[39mnot\u001b[39;00m \u001b[39misinstance\u001b[39m(func_err, catch)\n\u001b[1;32m    250\u001b[0m ):\n\u001b[0;32m--> 251\u001b[0m     \u001b[39mraise\u001b[39;00m func_err\n\u001b[1;32m    252\u001b[0m \u001b[39mreturn\u001b[39;00m frozen_trial\n",
      "File \u001b[0;32m~/PJT6_Open_classrooms_MLE/.venv/lib/python3.10/site-packages/optuna/study/_optimize.py:200\u001b[0m, in \u001b[0;36m_run_trial\u001b[0;34m(study, func, catch)\u001b[0m\n\u001b[1;32m    198\u001b[0m \u001b[39mwith\u001b[39;00m get_heartbeat_thread(trial\u001b[39m.\u001b[39m_trial_id, study\u001b[39m.\u001b[39m_storage):\n\u001b[1;32m    199\u001b[0m     \u001b[39mtry\u001b[39;00m:\n\u001b[0;32m--> 200\u001b[0m         value_or_values \u001b[39m=\u001b[39m func(trial)\n\u001b[1;32m    201\u001b[0m     \u001b[39mexcept\u001b[39;00m exceptions\u001b[39m.\u001b[39mTrialPruned \u001b[39mas\u001b[39;00m e:\n\u001b[1;32m    202\u001b[0m         \u001b[39m# TODO(mamu): Handle multi-objective cases.\u001b[39;00m\n\u001b[1;32m    203\u001b[0m         state \u001b[39m=\u001b[39m TrialState\u001b[39m.\u001b[39mPRUNED\n",
      "\u001b[1;32m/Users/orphila_adjovi/PJT6_Open_classrooms_MLE/Adjovi_Orphila_2_notebook_model_perso_022024.ipynb Cell 15\u001b[0m line \u001b[0;36m4\n\u001b[1;32m     <a href='vscode-notebook-cell:/Users/orphila_adjovi/PJT6_Open_classrooms_MLE/Adjovi_Orphila_2_notebook_model_perso_022024.ipynb#X20sZmlsZQ%3D%3D?line=42'>43</a>\u001b[0m model\u001b[39m.\u001b[39mcompile(optimizer\u001b[39m=\u001b[39moptimizer, \n\u001b[1;32m     <a href='vscode-notebook-cell:/Users/orphila_adjovi/PJT6_Open_classrooms_MLE/Adjovi_Orphila_2_notebook_model_perso_022024.ipynb#X20sZmlsZQ%3D%3D?line=43'>44</a>\u001b[0m               loss\u001b[39m=\u001b[39m\u001b[39m'\u001b[39m\u001b[39msparse_categorical_crossentropy\u001b[39m\u001b[39m'\u001b[39m, \n\u001b[1;32m     <a href='vscode-notebook-cell:/Users/orphila_adjovi/PJT6_Open_classrooms_MLE/Adjovi_Orphila_2_notebook_model_perso_022024.ipynb#X20sZmlsZQ%3D%3D?line=44'>45</a>\u001b[0m               metrics\u001b[39m=\u001b[39m[\u001b[39m'\u001b[39m\u001b[39maccuracy\u001b[39m\u001b[39m'\u001b[39m])\n\u001b[1;32m     <a href='vscode-notebook-cell:/Users/orphila_adjovi/PJT6_Open_classrooms_MLE/Adjovi_Orphila_2_notebook_model_perso_022024.ipynb#X20sZmlsZQ%3D%3D?line=46'>47</a>\u001b[0m \u001b[39m# Entraînement du modèle\u001b[39;00m\n\u001b[0;32m---> <a href='vscode-notebook-cell:/Users/orphila_adjovi/PJT6_Open_classrooms_MLE/Adjovi_Orphila_2_notebook_model_perso_022024.ipynb#X20sZmlsZQ%3D%3D?line=47'>48</a>\u001b[0m model\u001b[39m.\u001b[39;49mfit(train_ds_sample, validation_data\u001b[39m=\u001b[39;49mval_ds_sample, epochs\u001b[39m=\u001b[39;49mnum_epochs, verbose\u001b[39m=\u001b[39;49m\u001b[39m0\u001b[39;49m)\n\u001b[1;32m     <a href='vscode-notebook-cell:/Users/orphila_adjovi/PJT6_Open_classrooms_MLE/Adjovi_Orphila_2_notebook_model_perso_022024.ipynb#X20sZmlsZQ%3D%3D?line=49'>50</a>\u001b[0m \u001b[39m# Évaluation du modèle sur l'ensemble de validation\u001b[39;00m\n\u001b[1;32m     <a href='vscode-notebook-cell:/Users/orphila_adjovi/PJT6_Open_classrooms_MLE/Adjovi_Orphila_2_notebook_model_perso_022024.ipynb#X20sZmlsZQ%3D%3D?line=50'>51</a>\u001b[0m _, accuracy \u001b[39m=\u001b[39m model\u001b[39m.\u001b[39mevaluate(val_ds_sample)\n",
      "File \u001b[0;32m~/PJT6_Open_classrooms_MLE/.venv/lib/python3.10/site-packages/keras/src/utils/traceback_utils.py:65\u001b[0m, in \u001b[0;36mfilter_traceback.<locals>.error_handler\u001b[0;34m(*args, **kwargs)\u001b[0m\n\u001b[1;32m     63\u001b[0m filtered_tb \u001b[39m=\u001b[39m \u001b[39mNone\u001b[39;00m\n\u001b[1;32m     64\u001b[0m \u001b[39mtry\u001b[39;00m:\n\u001b[0;32m---> 65\u001b[0m     \u001b[39mreturn\u001b[39;00m fn(\u001b[39m*\u001b[39;49margs, \u001b[39m*\u001b[39;49m\u001b[39m*\u001b[39;49mkwargs)\n\u001b[1;32m     66\u001b[0m \u001b[39mexcept\u001b[39;00m \u001b[39mException\u001b[39;00m \u001b[39mas\u001b[39;00m e:\n\u001b[1;32m     67\u001b[0m     filtered_tb \u001b[39m=\u001b[39m _process_traceback_frames(e\u001b[39m.\u001b[39m__traceback__)\n",
      "File \u001b[0;32m~/PJT6_Open_classrooms_MLE/.venv/lib/python3.10/site-packages/keras/src/engine/training.py:1807\u001b[0m, in \u001b[0;36mModel.fit\u001b[0;34m(self, x, y, batch_size, epochs, verbose, callbacks, validation_split, validation_data, shuffle, class_weight, sample_weight, initial_epoch, steps_per_epoch, validation_steps, validation_batch_size, validation_freq, max_queue_size, workers, use_multiprocessing)\u001b[0m\n\u001b[1;32m   1799\u001b[0m \u001b[39mwith\u001b[39;00m tf\u001b[39m.\u001b[39mprofiler\u001b[39m.\u001b[39mexperimental\u001b[39m.\u001b[39mTrace(\n\u001b[1;32m   1800\u001b[0m     \u001b[39m\"\u001b[39m\u001b[39mtrain\u001b[39m\u001b[39m\"\u001b[39m,\n\u001b[1;32m   1801\u001b[0m     epoch_num\u001b[39m=\u001b[39mepoch,\n\u001b[0;32m   (...)\u001b[0m\n\u001b[1;32m   1804\u001b[0m     _r\u001b[39m=\u001b[39m\u001b[39m1\u001b[39m,\n\u001b[1;32m   1805\u001b[0m ):\n\u001b[1;32m   1806\u001b[0m     callbacks\u001b[39m.\u001b[39mon_train_batch_begin(step)\n\u001b[0;32m-> 1807\u001b[0m     tmp_logs \u001b[39m=\u001b[39m \u001b[39mself\u001b[39;49m\u001b[39m.\u001b[39;49mtrain_function(iterator)\n\u001b[1;32m   1808\u001b[0m     \u001b[39mif\u001b[39;00m data_handler\u001b[39m.\u001b[39mshould_sync:\n\u001b[1;32m   1809\u001b[0m         context\u001b[39m.\u001b[39masync_wait()\n",
      "File \u001b[0;32m~/PJT6_Open_classrooms_MLE/.venv/lib/python3.10/site-packages/tensorflow/python/util/traceback_utils.py:150\u001b[0m, in \u001b[0;36mfilter_traceback.<locals>.error_handler\u001b[0;34m(*args, **kwargs)\u001b[0m\n\u001b[1;32m    148\u001b[0m filtered_tb \u001b[39m=\u001b[39m \u001b[39mNone\u001b[39;00m\n\u001b[1;32m    149\u001b[0m \u001b[39mtry\u001b[39;00m:\n\u001b[0;32m--> 150\u001b[0m   \u001b[39mreturn\u001b[39;00m fn(\u001b[39m*\u001b[39;49margs, \u001b[39m*\u001b[39;49m\u001b[39m*\u001b[39;49mkwargs)\n\u001b[1;32m    151\u001b[0m \u001b[39mexcept\u001b[39;00m \u001b[39mException\u001b[39;00m \u001b[39mas\u001b[39;00m e:\n\u001b[1;32m    152\u001b[0m   filtered_tb \u001b[39m=\u001b[39m _process_traceback_frames(e\u001b[39m.\u001b[39m__traceback__)\n",
      "File \u001b[0;32m~/PJT6_Open_classrooms_MLE/.venv/lib/python3.10/site-packages/tensorflow/python/eager/polymorphic_function/polymorphic_function.py:832\u001b[0m, in \u001b[0;36mFunction.__call__\u001b[0;34m(self, *args, **kwds)\u001b[0m\n\u001b[1;32m    829\u001b[0m compiler \u001b[39m=\u001b[39m \u001b[39m\"\u001b[39m\u001b[39mxla\u001b[39m\u001b[39m\"\u001b[39m \u001b[39mif\u001b[39;00m \u001b[39mself\u001b[39m\u001b[39m.\u001b[39m_jit_compile \u001b[39melse\u001b[39;00m \u001b[39m\"\u001b[39m\u001b[39mnonXla\u001b[39m\u001b[39m\"\u001b[39m\n\u001b[1;32m    831\u001b[0m \u001b[39mwith\u001b[39;00m OptionalXlaContext(\u001b[39mself\u001b[39m\u001b[39m.\u001b[39m_jit_compile):\n\u001b[0;32m--> 832\u001b[0m   result \u001b[39m=\u001b[39m \u001b[39mself\u001b[39;49m\u001b[39m.\u001b[39;49m_call(\u001b[39m*\u001b[39;49margs, \u001b[39m*\u001b[39;49m\u001b[39m*\u001b[39;49mkwds)\n\u001b[1;32m    834\u001b[0m new_tracing_count \u001b[39m=\u001b[39m \u001b[39mself\u001b[39m\u001b[39m.\u001b[39mexperimental_get_tracing_count()\n\u001b[1;32m    835\u001b[0m without_tracing \u001b[39m=\u001b[39m (tracing_count \u001b[39m==\u001b[39m new_tracing_count)\n",
      "File \u001b[0;32m~/PJT6_Open_classrooms_MLE/.venv/lib/python3.10/site-packages/tensorflow/python/eager/polymorphic_function/polymorphic_function.py:868\u001b[0m, in \u001b[0;36mFunction._call\u001b[0;34m(self, *args, **kwds)\u001b[0m\n\u001b[1;32m    865\u001b[0m   \u001b[39mself\u001b[39m\u001b[39m.\u001b[39m_lock\u001b[39m.\u001b[39mrelease()\n\u001b[1;32m    866\u001b[0m   \u001b[39m# In this case we have created variables on the first call, so we run the\u001b[39;00m\n\u001b[1;32m    867\u001b[0m   \u001b[39m# defunned version which is guaranteed to never create variables.\u001b[39;00m\n\u001b[0;32m--> 868\u001b[0m   \u001b[39mreturn\u001b[39;00m tracing_compilation\u001b[39m.\u001b[39;49mcall_function(\n\u001b[1;32m    869\u001b[0m       args, kwds, \u001b[39mself\u001b[39;49m\u001b[39m.\u001b[39;49m_no_variable_creation_config\n\u001b[1;32m    870\u001b[0m   )\n\u001b[1;32m    871\u001b[0m \u001b[39melif\u001b[39;00m \u001b[39mself\u001b[39m\u001b[39m.\u001b[39m_variable_creation_config \u001b[39mis\u001b[39;00m \u001b[39mnot\u001b[39;00m \u001b[39mNone\u001b[39;00m:\n\u001b[1;32m    872\u001b[0m   \u001b[39m# Release the lock early so that multiple threads can perform the call\u001b[39;00m\n\u001b[1;32m    873\u001b[0m   \u001b[39m# in parallel.\u001b[39;00m\n\u001b[1;32m    874\u001b[0m   \u001b[39mself\u001b[39m\u001b[39m.\u001b[39m_lock\u001b[39m.\u001b[39mrelease()\n",
      "File \u001b[0;32m~/PJT6_Open_classrooms_MLE/.venv/lib/python3.10/site-packages/tensorflow/python/eager/polymorphic_function/tracing_compilation.py:139\u001b[0m, in \u001b[0;36mcall_function\u001b[0;34m(args, kwargs, tracing_options)\u001b[0m\n\u001b[1;32m    137\u001b[0m bound_args \u001b[39m=\u001b[39m function\u001b[39m.\u001b[39mfunction_type\u001b[39m.\u001b[39mbind(\u001b[39m*\u001b[39margs, \u001b[39m*\u001b[39m\u001b[39m*\u001b[39mkwargs)\n\u001b[1;32m    138\u001b[0m flat_inputs \u001b[39m=\u001b[39m function\u001b[39m.\u001b[39mfunction_type\u001b[39m.\u001b[39munpack_inputs(bound_args)\n\u001b[0;32m--> 139\u001b[0m \u001b[39mreturn\u001b[39;00m function\u001b[39m.\u001b[39;49m_call_flat(  \u001b[39m# pylint: disable=protected-access\u001b[39;49;00m\n\u001b[1;32m    140\u001b[0m     flat_inputs, captured_inputs\u001b[39m=\u001b[39;49mfunction\u001b[39m.\u001b[39;49mcaptured_inputs\n\u001b[1;32m    141\u001b[0m )\n",
      "File \u001b[0;32m~/PJT6_Open_classrooms_MLE/.venv/lib/python3.10/site-packages/tensorflow/python/eager/polymorphic_function/concrete_function.py:1323\u001b[0m, in \u001b[0;36mConcreteFunction._call_flat\u001b[0;34m(self, tensor_inputs, captured_inputs)\u001b[0m\n\u001b[1;32m   1319\u001b[0m possible_gradient_type \u001b[39m=\u001b[39m gradients_util\u001b[39m.\u001b[39mPossibleTapeGradientTypes(args)\n\u001b[1;32m   1320\u001b[0m \u001b[39mif\u001b[39;00m (possible_gradient_type \u001b[39m==\u001b[39m gradients_util\u001b[39m.\u001b[39mPOSSIBLE_GRADIENT_TYPES_NONE\n\u001b[1;32m   1321\u001b[0m     \u001b[39mand\u001b[39;00m executing_eagerly):\n\u001b[1;32m   1322\u001b[0m   \u001b[39m# No tape is watching; skip to running the function.\u001b[39;00m\n\u001b[0;32m-> 1323\u001b[0m   \u001b[39mreturn\u001b[39;00m \u001b[39mself\u001b[39;49m\u001b[39m.\u001b[39;49m_inference_function\u001b[39m.\u001b[39;49mcall_preflattened(args)\n\u001b[1;32m   1324\u001b[0m forward_backward \u001b[39m=\u001b[39m \u001b[39mself\u001b[39m\u001b[39m.\u001b[39m_select_forward_and_backward_functions(\n\u001b[1;32m   1325\u001b[0m     args,\n\u001b[1;32m   1326\u001b[0m     possible_gradient_type,\n\u001b[1;32m   1327\u001b[0m     executing_eagerly)\n\u001b[1;32m   1328\u001b[0m forward_function, args_with_tangents \u001b[39m=\u001b[39m forward_backward\u001b[39m.\u001b[39mforward()\n",
      "File \u001b[0;32m~/PJT6_Open_classrooms_MLE/.venv/lib/python3.10/site-packages/tensorflow/python/eager/polymorphic_function/atomic_function.py:216\u001b[0m, in \u001b[0;36mAtomicFunction.call_preflattened\u001b[0;34m(self, args)\u001b[0m\n\u001b[1;32m    214\u001b[0m \u001b[39mdef\u001b[39;00m \u001b[39mcall_preflattened\u001b[39m(\u001b[39mself\u001b[39m, args: Sequence[core\u001b[39m.\u001b[39mTensor]) \u001b[39m-\u001b[39m\u001b[39m>\u001b[39m Any:\n\u001b[1;32m    215\u001b[0m \u001b[39m  \u001b[39m\u001b[39m\"\"\"Calls with flattened tensor inputs and returns the structured output.\"\"\"\u001b[39;00m\n\u001b[0;32m--> 216\u001b[0m   flat_outputs \u001b[39m=\u001b[39m \u001b[39mself\u001b[39;49m\u001b[39m.\u001b[39;49mcall_flat(\u001b[39m*\u001b[39;49margs)\n\u001b[1;32m    217\u001b[0m   \u001b[39mreturn\u001b[39;00m \u001b[39mself\u001b[39m\u001b[39m.\u001b[39mfunction_type\u001b[39m.\u001b[39mpack_output(flat_outputs)\n",
      "File \u001b[0;32m~/PJT6_Open_classrooms_MLE/.venv/lib/python3.10/site-packages/tensorflow/python/eager/polymorphic_function/atomic_function.py:251\u001b[0m, in \u001b[0;36mAtomicFunction.call_flat\u001b[0;34m(self, *args)\u001b[0m\n\u001b[1;32m    249\u001b[0m \u001b[39mwith\u001b[39;00m record\u001b[39m.\u001b[39mstop_recording():\n\u001b[1;32m    250\u001b[0m   \u001b[39mif\u001b[39;00m \u001b[39mself\u001b[39m\u001b[39m.\u001b[39m_bound_context\u001b[39m.\u001b[39mexecuting_eagerly():\n\u001b[0;32m--> 251\u001b[0m     outputs \u001b[39m=\u001b[39m \u001b[39mself\u001b[39;49m\u001b[39m.\u001b[39;49m_bound_context\u001b[39m.\u001b[39;49mcall_function(\n\u001b[1;32m    252\u001b[0m         \u001b[39mself\u001b[39;49m\u001b[39m.\u001b[39;49mname,\n\u001b[1;32m    253\u001b[0m         \u001b[39mlist\u001b[39;49m(args),\n\u001b[1;32m    254\u001b[0m         \u001b[39mlen\u001b[39;49m(\u001b[39mself\u001b[39;49m\u001b[39m.\u001b[39;49mfunction_type\u001b[39m.\u001b[39;49mflat_outputs),\n\u001b[1;32m    255\u001b[0m     )\n\u001b[1;32m    256\u001b[0m   \u001b[39melse\u001b[39;00m:\n\u001b[1;32m    257\u001b[0m     outputs \u001b[39m=\u001b[39m make_call_op_in_graph(\n\u001b[1;32m    258\u001b[0m         \u001b[39mself\u001b[39m,\n\u001b[1;32m    259\u001b[0m         \u001b[39mlist\u001b[39m(args),\n\u001b[1;32m    260\u001b[0m         \u001b[39mself\u001b[39m\u001b[39m.\u001b[39m_bound_context\u001b[39m.\u001b[39mfunction_call_options\u001b[39m.\u001b[39mas_attrs(),\n\u001b[1;32m    261\u001b[0m     )\n",
      "File \u001b[0;32m~/PJT6_Open_classrooms_MLE/.venv/lib/python3.10/site-packages/tensorflow/python/eager/context.py:1486\u001b[0m, in \u001b[0;36mContext.call_function\u001b[0;34m(self, name, tensor_inputs, num_outputs)\u001b[0m\n\u001b[1;32m   1484\u001b[0m cancellation_context \u001b[39m=\u001b[39m cancellation\u001b[39m.\u001b[39mcontext()\n\u001b[1;32m   1485\u001b[0m \u001b[39mif\u001b[39;00m cancellation_context \u001b[39mis\u001b[39;00m \u001b[39mNone\u001b[39;00m:\n\u001b[0;32m-> 1486\u001b[0m   outputs \u001b[39m=\u001b[39m execute\u001b[39m.\u001b[39;49mexecute(\n\u001b[1;32m   1487\u001b[0m       name\u001b[39m.\u001b[39;49mdecode(\u001b[39m\"\u001b[39;49m\u001b[39mutf-8\u001b[39;49m\u001b[39m\"\u001b[39;49m),\n\u001b[1;32m   1488\u001b[0m       num_outputs\u001b[39m=\u001b[39;49mnum_outputs,\n\u001b[1;32m   1489\u001b[0m       inputs\u001b[39m=\u001b[39;49mtensor_inputs,\n\u001b[1;32m   1490\u001b[0m       attrs\u001b[39m=\u001b[39;49mattrs,\n\u001b[1;32m   1491\u001b[0m       ctx\u001b[39m=\u001b[39;49m\u001b[39mself\u001b[39;49m,\n\u001b[1;32m   1492\u001b[0m   )\n\u001b[1;32m   1493\u001b[0m \u001b[39melse\u001b[39;00m:\n\u001b[1;32m   1494\u001b[0m   outputs \u001b[39m=\u001b[39m execute\u001b[39m.\u001b[39mexecute_with_cancellation(\n\u001b[1;32m   1495\u001b[0m       name\u001b[39m.\u001b[39mdecode(\u001b[39m\"\u001b[39m\u001b[39mutf-8\u001b[39m\u001b[39m\"\u001b[39m),\n\u001b[1;32m   1496\u001b[0m       num_outputs\u001b[39m=\u001b[39mnum_outputs,\n\u001b[0;32m   (...)\u001b[0m\n\u001b[1;32m   1500\u001b[0m       cancellation_manager\u001b[39m=\u001b[39mcancellation_context,\n\u001b[1;32m   1501\u001b[0m   )\n",
      "File \u001b[0;32m~/PJT6_Open_classrooms_MLE/.venv/lib/python3.10/site-packages/tensorflow/python/eager/execute.py:53\u001b[0m, in \u001b[0;36mquick_execute\u001b[0;34m(op_name, num_outputs, inputs, attrs, ctx, name)\u001b[0m\n\u001b[1;32m     51\u001b[0m \u001b[39mtry\u001b[39;00m:\n\u001b[1;32m     52\u001b[0m   ctx\u001b[39m.\u001b[39mensure_initialized()\n\u001b[0;32m---> 53\u001b[0m   tensors \u001b[39m=\u001b[39m pywrap_tfe\u001b[39m.\u001b[39;49mTFE_Py_Execute(ctx\u001b[39m.\u001b[39;49m_handle, device_name, op_name,\n\u001b[1;32m     54\u001b[0m                                       inputs, attrs, num_outputs)\n\u001b[1;32m     55\u001b[0m \u001b[39mexcept\u001b[39;00m core\u001b[39m.\u001b[39m_NotOkStatusException \u001b[39mas\u001b[39;00m e:\n\u001b[1;32m     56\u001b[0m   \u001b[39mif\u001b[39;00m name \u001b[39mis\u001b[39;00m \u001b[39mnot\u001b[39;00m \u001b[39mNone\u001b[39;00m:\n",
      "\u001b[0;31mKeyboardInterrupt\u001b[0m: "
     ]
    }
   ],
   "source": [
    "import optuna\n",
    "from tensorflow.keras.optimizers import Adam\n",
    "\n",
    "def objective(trial):\n",
    "    # Paramètres à optimiser\n",
    "    dropout_rate = trial.suggest_float('dropout_rate', 0.1, 0.3)\n",
    "    learning_rate = trial.suggest_float('learning_rate', 1e-5, 1e-2)\n",
    "    num_epochs = trial.suggest_int('num_epochs', 5, 10)\n",
    "\n",
    "    # Création du modèle avec les paramètres suggérés\n",
    "    model = keras.Sequential([\n",
    "        # Couches de prétraitement\n",
    "        layers.Lambda(convert_to_grayscale),\n",
    "        layers.Lambda(data_standardisation),\n",
    "        layers.Lambda(data_augmentation),\n",
    "        layers.Lambda(data_augmentation_2),\n",
    "\n",
    "        # Couches de convolution et de pooling\n",
    "        Conv2D(32, (3, 3), activation='relu'),\n",
    "        layers.MaxPooling2D((2, 2)),\n",
    "        Conv2D(64, (3, 3), activation='relu'),\n",
    "        layers.MaxPooling2D((2, 2)),\n",
    "        layers.Conv2D(128, (3, 3), activation='relu'),\n",
    "        layers.MaxPooling2D((2, 2)),\n",
    "        layers.Conv2D(256, (3, 3), activation='relu'),\n",
    "        layers.MaxPooling2D((2, 2)),\n",
    "\n",
    "        # Transition vers les couches denses\n",
    "        layers.Flatten(),\n",
    "\n",
    "        # Couches denses\n",
    "        layers.Dense(512, activation='relu'),\n",
    "        layers.Dropout(dropout_rate),\n",
    "        layers.Dense(256, activation='relu'),\n",
    "        layers.Dropout(dropout_rate),\n",
    "        layers.Dense(256, activation='relu'),\n",
    "        layers.Dropout(dropout_rate),\n",
    "        layers.Dense(120, activation='softmax') \n",
    "    ])\n",
    "\n",
    "    # Compilation du modèle avec l'optimiseur Adam et le taux d'apprentissage\n",
    "    optimizer = Adam(learning_rate=learning_rate)\n",
    "    model.compile(optimizer=optimizer, \n",
    "                  loss='sparse_categorical_crossentropy', \n",
    "                  metrics=['accuracy'])\n",
    "\n",
    "    # Entraînement du modèle\n",
    "    model.fit(train_ds_sample, validation_data=val_ds_sample, epochs=num_epochs, verbose=0)\n",
    "\n",
    "    # Évaluation du modèle sur l'ensemble de validation\n",
    "    _, accuracy = model.evaluate(val_ds_sample)\n",
    "    \n",
    "    return accuracy\n",
    "\n",
    "# Création de l'étude Optuna\n",
    "study = optuna.create_study(direction='maximize')\n",
    "study.optimize(objective, n_trials=10)\n",
    "\n",
    "# Affichage des résultats\n",
    "print('Number of finished trials: ', len(study.trials))\n",
    "print('Best trial:')\n",
    "trial = study.best_trial\n",
    "\n",
    "print('Value: ', trial.value)\n",
    "print('Params: ')\n",
    "for key, value in trial.params.items():\n",
    "    print(f'    {key}: {value}')"
   ]
  },
  {
   "cell_type": "code",
   "execution_count": null,
   "metadata": {},
   "outputs": [
    {
     "name": "stdout",
     "output_type": "stream",
     "text": [
      "Epoch 1/10\n"
     ]
    },
    {
     "name": "stdout",
     "output_type": "stream",
     "text": [
      "3/3 [==============================] - 19s 4s/step - loss: 21.7162 - accuracy: 0.1973 - val_loss: 4.1623 - val_accuracy: 0.3077\n",
      "Epoch 2/10\n",
      "3/3 [==============================] - 12s 4s/step - loss: 5.7491 - accuracy: 0.3512 - val_loss: 1.4556 - val_accuracy: 0.3718\n",
      "Epoch 3/10\n",
      "3/3 [==============================] - 13s 4s/step - loss: 1.8416 - accuracy: 0.3679 - val_loss: 1.4318 - val_accuracy: 0.4359\n",
      "Epoch 4/10\n",
      "3/3 [==============================] - 15s 5s/step - loss: 1.6640 - accuracy: 0.4013 - val_loss: 1.3193 - val_accuracy: 0.3718\n",
      "Epoch 5/10\n",
      "3/3 [==============================] - 14s 4s/step - loss: 1.5037 - accuracy: 0.3612 - val_loss: 1.0844 - val_accuracy: 0.4103\n",
      "Epoch 6/10\n",
      "3/3 [==============================] - 11s 3s/step - loss: 1.3856 - accuracy: 0.3746 - val_loss: 1.1378 - val_accuracy: 0.4103\n",
      "Epoch 7/10\n",
      "3/3 [==============================] - 12s 4s/step - loss: 1.4019 - accuracy: 0.3445 - val_loss: 1.0947 - val_accuracy: 0.4359\n",
      "Epoch 8/10\n",
      "3/3 [==============================] - 12s 4s/step - loss: 1.3924 - accuracy: 0.3411 - val_loss: 1.1777 - val_accuracy: 0.3590\n",
      "Epoch 9/10\n",
      "3/3 [==============================] - 12s 4s/step - loss: 1.2638 - accuracy: 0.3946 - val_loss: 1.1377 - val_accuracy: 0.3205\n",
      "Epoch 10/10\n",
      "3/3 [==============================] - 12s 4s/step - loss: 1.2927 - accuracy: 0.4214 - val_loss: 1.1754 - val_accuracy: 0.5000\n",
      "WARNING:tensorflow:6 out of the last 18 calls to <function Model.make_predict_function.<locals>.predict_function at 0x7fa8ec7800d0> triggered tf.function retracing. Tracing is expensive and the excessive number of tracings could be due to (1) creating @tf.function repeatedly in a loop, (2) passing tensors with different shapes, (3) passing Python objects instead of tensors. For (1), please define your @tf.function outside of the loop. For (2), @tf.function has reduce_retracing=True option that can avoid unnecessary retracing. For (3), please refer to https://www.tensorflow.org/guide/function#controlling_retracing and https://www.tensorflow.org/api_docs/python/tf/function for  more details.\n",
      "1/1 [==============================] - 1s 1s/step\n"
     ]
    },
    {
     "data": {
      "image/png": "[encoded data removed]",
      "text/plain": [
       "<Figure size 1000x800 with 2 Axes>"
      ]
     },
     "metadata": {},
     "output_type": "display_data"
    },
    {
     "name": "stdout",
     "output_type": "stream",
     "text": [
      "Précision sur le test: 0.44999998807907104\n"
     ]
    }
   ],
   "source": [
    "#modèle optimisé\n",
    "dropout_rate = 0.2570433990346258\n",
    "learning_rate = 0.0005703961594509845\n",
    "\n",
    "model_3 = keras.Sequential([\n",
    "    # Couches de prétraitement\n",
    "    layers.Lambda(convert_to_grayscale),\n",
    "    layers.Lambda(data_standardisation),\n",
    "    layers.Lambda(data_augmentation),\n",
    "    layers.Lambda(data_augmentation_2),\n",
    "\n",
    "    # Couches de convolution et de pooling\n",
    "    Conv2D(32, (3, 3), activation='relu'),\n",
    "    layers.MaxPooling2D((2, 2)),\n",
    "    Conv2D(64, (3, 3), activation='relu'),\n",
    "    layers.MaxPooling2D((2, 2)),\n",
    "    layers.Conv2D(128, (3, 3), activation='relu'),\n",
    "    layers.MaxPooling2D((2, 2)),\n",
    "    layers.Conv2D(256, (3, 3), activation='relu'),\n",
    "    layers.MaxPooling2D((2, 2)),\n",
    "\n",
    "    # Transition vers les couches denses\n",
    "    layers.Flatten(),\n",
    "\n",
    "    # Couches denses\n",
    "    layers.Dense(512, activation='relu'),\n",
    "    layers.Dropout(dropout_rate),\n",
    "    layers.Dense(256, activation='relu'),\n",
    "    layers.Dropout(dropout_rate),\n",
    "    layers.Dense(256, activation='relu'),\n",
    "    layers.Dropout(dropout_rate),\n",
    "    layers.Dense(120, activation='softmax') \n",
    "])\n",
    "\n",
    "cnn_from_scratch_optimized = train_model(model_3,train_ds_sample,val_ds_sample,test_ds_sample,Adam(learning_rate=learning_rate),\"cnn_from_scratch_optimized\")"
   ]
  }
 ],
 "metadata": {
  "kernelspec": {
   "display_name": ".venv",
   "language": "python",
   "name": "python3"
  },
  "language_info": {
   "codemirror_mode": {
    "name": "ipython",
    "version": 3
   },
   "file_extension": ".py",
   "mimetype": "text/x-python",
   "name": "python",
   "nbconvert_exporter": "python",
   "pygments_lexer": "ipython3",
   "version": "3.10.9"
  }
 },
 "nbformat": 4,
 "nbformat_minor": 2
}
